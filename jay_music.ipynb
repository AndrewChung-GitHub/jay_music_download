{
 "cells": [
  {
   "cell_type": "code",
   "execution_count": 1,
   "id": "bb76d06e",
   "metadata": {},
   "outputs": [],
   "source": [
    "import pandas as pd\n",
    "import requests\n",
    "import os"
   ]
  },
  {
   "cell_type": "code",
   "execution_count": 2,
   "id": "365dbe34",
   "metadata": {},
   "outputs": [],
   "source": [
    "url = 'https://api.github.com/gists/cb11eaafbe69fc7ba63c38f9ff40e0d9'\n",
    "data_json = requests.get(url).json()\n",
    "raw_url = data_json['files']['jay-music.json']['raw_url']\n",
    "data_jay_music = requests.get(raw_url).json()"
   ]
  },
  {
   "cell_type": "code",
   "execution_count": 3,
   "id": "c31a4218",
   "metadata": {},
   "outputs": [],
   "source": [
    "def download_file(url, local_filename):\n",
    "    if not os.path.exists(os.path.join('.', 'jay_music')):\n",
    "        os.makedirs(os.path.join('.', 'jay_music'))\n",
    "    if not os.path.exists(os.path.join('.', 'jay_music', local_filename)):\n",
    "        with requests.get(url, stream=True) as r:\n",
    "            r.raise_for_status()\n",
    "            with open(os.path.join('.', 'jay_music', local_filename), 'wb') as f:\n",
    "                for chunk in r.iter_content(chunk_size=8192): \n",
    "                    f.write(chunk)\n",
    "    return local_filename"
   ]
  },
  {
   "cell_type": "code",
   "execution_count": null,
   "id": "74ed12c6",
   "metadata": {},
   "outputs": [],
   "source": [
    "for music in data_jay_music['list']:\n",
    "    try:\n",
    "        flac_url = music['songInfo']['flac']\n",
    "        local_filename = music['name'] + '-' + '周杰伦'+'.flac'\n",
    "        download_file(flac_url, local_filename)\n",
    "    except:\n",
    "        continue"
   ]
  },
  {
   "cell_type": "code",
   "execution_count": null,
   "id": "18f9deea",
   "metadata": {},
   "outputs": [],
   "source": []
  }
 ],
 "metadata": {
  "kernelspec": {
   "display_name": "Python 3",
   "language": "python",
   "name": "python3"
  },
  "language_info": {
   "codemirror_mode": {
    "name": "ipython",
    "version": 3
   },
   "file_extension": ".py",
   "mimetype": "text/x-python",
   "name": "python",
   "nbconvert_exporter": "python",
   "pygments_lexer": "ipython3",
   "version": "3.9.12"
  }
 },
 "nbformat": 4,
 "nbformat_minor": 5
}
